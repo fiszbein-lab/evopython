{
 "cells": [
  {
   "cell_type": "markdown",
   "source": [
    "The following example is meant to illustrate advanced usage of `evopython`. To begin, the package should be installed alongside `editdistance`, `matplotlib`, `pandas`, and `seaborn` and this notebook run in the same environment.\n",
    "\n",
    "In addition, [human gene annotation data](https://ftp.ensembl.org/pub/release-109/gtf/homo_sapiens/Homo_sapiens.GRCh38.109.chr.gtf.gz), [mouse gene annotation data](https://ftp.ensembl.org/pub/release-109/gtf/mus_musculus/Mus_musculus.GRCm39.109.gtf.gz), and the [human-mouse pairwise whole genome alignment](https://ftp.ensembl.org/pub/release-109/maf/ensembl-compara/pairwise_alignments/hsap_grch38.v.mmus_grcm39.lastz_net.tar.gz) should be downloaded from *Ensembl*; human-mouse ortholog data, processed from [The Alliance of Genome Resources](https://www.alliancegenome.org/downloads#orthology), is provided.\n",
    "\n",
    "We have to perform two pre-processing steps to get the alignment data ready for use: first, the files must be merged on chromosome name; and second, we need to fix the `score` field (which is malformed as of release 109). A command-line script that does both can be found [here](https://gist.github.com/steven-mick/ed7810edfedb3c8c5c7b6da974445b28); once the above human-mouse alignment has been downloaded and the data extracted, simply run `python prepare_wga.py --maf-dir path/to/dir --method lastz_net`.\n",
    "\n",
    "Below, I assume the human-mouse alignment directory is inside the current working directory and named `hsap_mmus`. To begin, let's initialize our classes:"
   ],
   "metadata": {
    "collapsed": false
   }
  },
  {
   "cell_type": "code",
   "execution_count": 4,
   "outputs": [],
   "source": [
    "from evopython import GTF, MAF\n",
    "\n",
    "human_genes = GTF(\"Homo_sapiens.GRCh38.109.chr.gtf\", types=(\"transcript\", \"exon\"))\n",
    "mouse_genes = GTF(\"Mus_musculus.GRCm39.109.chr.gtf\", types=(\"transcript\",))\n",
    "\n",
    "wga = MAF(\"hsap_mmus\", aligned_on=\"homo_sapiens\")"
   ],
   "metadata": {
    "collapsed": false,
    "ExecuteTime": {
     "end_time": "2023-07-15T16:56:47.452456Z",
     "start_time": "2023-07-15T16:56:08.159759Z"
    }
   }
  },
  {
   "cell_type": "markdown",
   "source": [
    "Adding `types=(\"transcript\", \"exon\")` instructs `GTF` to parse transcript and exon features in addition to the default gene features—note that the argument must be a `tuple`, hence the `,` after `\"transcript\"` for `mouse_genes`. Any number of feature types are allowed, and querying has the general form `gtf_instance[gene_name][feature_type]`, which accesses the set of `Feature` instances of type `feature_type` belonging to gene `gene_name`, e.g,"
   ],
   "metadata": {
    "collapsed": false
   }
  },
  {
   "cell_type": "code",
   "execution_count": 5,
   "outputs": [
    {
     "name": "stdout",
     "output_type": "stream",
     "text": [
      "1:6244547-6244629\n",
      "1:6244350-6244446\n",
      "1:6245109-6245578\n",
      "1:6244178-6244241\n"
     ]
    }
   ],
   "source": [
    "for exon in human_genes['HES3']['exon']:\n",
    "    print(exon.locus(base=0))"
   ],
   "metadata": {
    "collapsed": false,
    "ExecuteTime": {
     "end_time": "2023-07-15T16:56:47.457008Z",
     "start_time": "2023-07-15T16:56:47.452709Z"
    }
   }
  },
  {
   "cell_type": "markdown",
   "source": [
    "The provided `human_mouse_orthologs.csv` is a two-column, comma-separated file, where column 1 is the human gene name and column 2 the orthologous mouse gene name. Let's read it into a dictionary:"
   ],
   "metadata": {
    "collapsed": false
   }
  },
  {
   "cell_type": "code",
   "execution_count": 6,
   "outputs": [],
   "source": [
    "import csv\n",
    "\n",
    "human_mouse_ortholog = dict()\n",
    "with open(\"human_mouse_orthologs.csv\", 'r') as f:\n",
    "    reader = csv.reader(f)\n",
    "\n",
    "    for row in reader:\n",
    "        human_gene, mouse_gene = row\n",
    "        human_mouse_ortholog[human_gene] = mouse_gene"
   ],
   "metadata": {
    "collapsed": false,
    "ExecuteTime": {
     "end_time": "2023-07-15T16:56:47.497612Z",
     "start_time": "2023-07-15T16:56:47.458920Z"
    }
   }
  },
  {
   "cell_type": "markdown",
   "source": [
    "Now, suppose we wanted to explore the connection between splice-site mutation and changes in isoform number since the human and mouse lineages diverged. We can iterate over the human gene set; check whether each gene is both protein-coding and has a protein-coding ortholog in the mouse genome; and derive the set of unique splice sites from the genes’ constituent exon features in a manner analogous to how we derived the HES3 core promoter in the `primats.ipynb` notebook:\n"
   ],
   "metadata": {
    "collapsed": false
   }
  },
  {
   "cell_type": "code",
   "execution_count": 7,
   "outputs": [],
   "source": [
    "import editdistance\n",
    "\n",
    "long_data = []\n",
    "for gene_name in human_genes:\n",
    "    human_gene = human_genes[gene_name]\n",
    "\n",
    "    if gene_name not in human_mouse_ortholog:\n",
    "        continue  # No ortholog.\n",
    "    else:\n",
    "        orthologous_gene = human_mouse_ortholog[gene_name]\n",
    "\n",
    "    if orthologous_gene not in mouse_genes:\n",
    "        continue  # No annotation.\n",
    "    else:\n",
    "        mouse_gene = mouse_genes[orthologous_gene]\n",
    "\n",
    "    human_biotype = human_gene['attr']['gene_biotype']\n",
    "    mouse_biotype = mouse_gene['attr']['gene_biotype']\n",
    "\n",
    "    if {human_biotype, mouse_biotype} != {\"protein_coding\"}:\n",
    "        continue  # Not both protein-coding.\n",
    "\n",
    "    human_isoform_count = len(human_gene['transcript'])\n",
    "    mouse_isoform_count = len(mouse_gene['transcript'])\n",
    "\n",
    "    isoform_change = abs(human_isoform_count - mouse_isoform_count)\n",
    "\n",
    "    ss3_feats = set()\n",
    "    ss5_feats = set()\n",
    "\n",
    "    for feat in human_gene['exon']:\n",
    "        ss3_feats.add(feat.pad(center=5, pad5=20, pad3=3))\n",
    "        ss5_feats.add(feat.pad(center=3, pad5=6, pad3=3))\n",
    "\n",
    "    edit_dist = 0\n",
    "    for site, features in zip((5, 3), (ss5_feats, ss3_feats)):\n",
    "        size = 23 if site == 3 else 9\n",
    "\n",
    "        for feat in ss3_feats:\n",
    "            alignments = wga.get(feat, match_strand=True)\n",
    "\n",
    "            if len(alignments) == 1:\n",
    "                alignment, = alignments\n",
    "            else:\n",
    "                # Ignore the alignment if it's not contiguous.\n",
    "                continue\n",
    "\n",
    "            _, human_seq = alignment['homo_sapiens']\n",
    "            _, mouse_seq = alignment['mus_musculus']\n",
    "\n",
    "            edit_dist += editdistance.eval(human_seq, mouse_seq) / size\n",
    "\n",
    "    long_data.append({\n",
    "        'edit_dist': edit_dist,\n",
    "        'isoform_change': isoform_change\n",
    "    })"
   ],
   "metadata": {
    "collapsed": false,
    "ExecuteTime": {
     "end_time": "2023-07-15T17:03:33.560999Z",
     "start_time": "2023-07-15T16:56:47.486299Z"
    }
   }
  },
  {
   "cell_type": "markdown",
   "source": [
    "`match_strand=True` is the default behavior and ensures the aligned sequence corresponds to the same strand as the feature in the `aligned_on` species, but in these types of analyses especially, it can be helpful to be explicit that we're retrieving *stranded* sequences. The splice site regions are based on [MaxEntScan](http://hollywood.mit.edu/burgelab/maxent/Xmaxentscan_scoreseq.html).\n",
    "\n",
    "Now that we populated our `long_data` list, we can proceed with plotting:"
   ],
   "metadata": {
    "collapsed": false
   }
  },
  {
   "cell_type": "code",
   "execution_count": 8,
   "outputs": [
    {
     "data": {
      "text/plain": "<Figure size 640x480 with 1 Axes>",
      "image/png": "[encoded data removed]"
     },
     "metadata": {},
     "output_type": "display_data"
    }
   ],
   "source": [
    "import pandas as pd\n",
    "import matplotlib.pyplot as plt\n",
    "import seaborn as sns\n",
    "\n",
    "frame = pd.DataFrame(long_data)\n",
    "frame['binned_edit_dist'] = pd.qcut(frame.edit_dist.values, q=4)\n",
    "\n",
    "sns.boxplot(\n",
    "    data=frame,\n",
    "    x=\"binned_edit_dist\",\n",
    "    y=\"isoform_change\",\n",
    "    showfliers=False,\n",
    "    notch=True\n",
    ")\n",
    "\n",
    "plt.show()"
   ],
   "metadata": {
    "collapsed": false,
    "ExecuteTime": {
     "end_time": "2023-07-15T17:03:33.724313Z",
     "start_time": "2023-07-15T17:03:33.580562Z"
    }
   }
  }
 ],
 "metadata": {
  "kernelspec": {
   "display_name": "Python 3",
   "language": "python",
   "name": "python3"
  },
  "language_info": {
   "codemirror_mode": {
    "name": "ipython",
    "version": 2
   },
   "file_extension": ".py",
   "mimetype": "text/x-python",
   "name": "python",
   "nbconvert_exporter": "python",
   "pygments_lexer": "ipython2",
   "version": "2.7.6"
  }
 },
 "nbformat": 4,
 "nbformat_minor": 0
}
