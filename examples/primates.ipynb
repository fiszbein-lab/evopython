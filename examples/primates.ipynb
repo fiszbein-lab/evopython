{
 "cells": [
  {
   "cell_type": "markdown",
   "metadata": {},
   "source": [
    "The following example is meant to illustrate basic usage of `evopython`. To begin, the package should be installed and this notebook run in the same environment. In addition, [human gene annotation data](https://ftp.ensembl.org/pub/release-109/gtf/homo_sapiens/Homo_sapiens.GRCh38.109.chr.gtf.gz) and the 10 primates multiple whole-genome alignment must be downloaded from *Ensembl* (because we work with just the human transcription factor HES3 below, it's only necessary to download the [initial chromosome 1 MAF file](https://ftp.ensembl.org/pub/release-109/maf/ensembl-compara/multiple_alignments/10_primates.epo/10_primates.epo.1_1.maf.gz)).\n",
    "\n",
    "`evopython` expects MAF files to be in a directory and be named after the chromosome that they're indexed on, so `1_1.maf` should be placed in a directory—which, below, I'll assume is named `10_primates` and in the current working directory—and renamed `1.maf`.\n",
    "\n",
    "After the required data has been downloaded and organized, we can start using `evopython`:"
   ]
  },
  {
   "cell_type": "code",
   "execution_count": 14,
   "metadata": {
    "ExecuteTime": {
     "end_time": "2023-07-15T16:09:00.520503Z",
     "start_time": "2023-07-15T16:08:56.432435Z"
    }
   },
   "outputs": [],
   "source": [
    "from evopython import GTF, MAF\n",
    "\n",
    "genes = GTF(\"Homo_sapiens.GRCh38.109.chr.gtf\")"
   ]
  },
  {
   "cell_type": "markdown",
   "metadata": {},
   "source": [
    "`genes` is nested dictionary-like data structure with gene name keys, so we can selectively access some gene by name or iterate over the entire gene set. Let's grab the transcription factor HES3:"
   ]
  },
  {
   "cell_type": "code",
   "execution_count": 15,
   "metadata": {
    "ExecuteTime": {
     "end_time": "2023-07-15T16:09:00.523397Z",
     "start_time": "2023-07-15T16:09:00.521474Z"
    }
   },
   "outputs": [],
   "source": [
    "HES3 = genes['HES3']"
   ]
  },
  {
   "cell_type": "markdown",
   "metadata": {},
   "source": [
    "The high-level gene dictionaries have two keys by default, `attr` and `feat`; the former stores annotated attributes in a dictionary,"
   ]
  },
  {
   "cell_type": "code",
   "execution_count": 16,
   "metadata": {
    "ExecuteTime": {
     "end_time": "2023-07-15T16:09:00.527042Z",
     "start_time": "2023-07-15T16:09:00.525204Z"
    }
   },
   "outputs": [
    {
     "data": {
      "text/plain": "{'gene_id': 'ENSG00000173673',\n 'gene_version': 9,\n 'gene_name': 'HES3',\n 'gene_source': 'ensembl_havana',\n 'gene_biotype': 'protein_coding'}"
     },
     "execution_count": 16,
     "metadata": {},
     "output_type": "execute_result"
    }
   ],
   "source": [
    "HES3_attr = HES3['attr']\n",
    "HES3_attr"
   ]
  },
  {
   "cell_type": "markdown",
   "metadata": {},
   "source": [
    "whereas the latter stores the gene's `Feature` instance,"
   ]
  },
  {
   "cell_type": "code",
   "execution_count": 17,
   "metadata": {
    "ExecuteTime": {
     "end_time": "2023-07-15T16:09:00.530958Z",
     "start_time": "2023-07-15T16:09:00.529225Z"
    }
   },
   "outputs": [
    {
     "data": {
      "text/plain": "Feature(chrom='1', start=6244178, end=6245578, strand='+')"
     },
     "execution_count": 17,
     "metadata": {},
     "output_type": "execute_result"
    }
   ],
   "source": [
    "HES3_feat = HES3['feat']\n",
    "HES3_feat"
   ]
  },
  {
   "cell_type": "markdown",
   "metadata": {},
   "source": [
    "We gather the `Feature` instance from `genes` here, but it's worth noting that `Feature` instances are simply initialized with 0-based positional information, i.e.,"
   ]
  },
  {
   "cell_type": "code",
   "execution_count": 18,
   "metadata": {
    "ExecuteTime": {
     "end_time": "2023-07-15T16:09:00.534582Z",
     "start_time": "2023-07-15T16:09:00.531113Z"
    }
   },
   "outputs": [
    {
     "data": {
      "text/plain": "True"
     },
     "execution_count": 18,
     "metadata": {},
     "output_type": "execute_result"
    }
   ],
   "source": [
    "from evopython import Feature\n",
    "\n",
    "HES3_feat == Feature(chrom=\"1\", start=6244178, end=6245578, strand=\"+\")"
   ]
  },
  {
   "cell_type": "markdown",
   "metadata": {},
   "source": [
    "It's these instances of the `Feature` class that are resolved from the whole-genome alignment, using the `MAF` class's `get` method:"
   ]
  },
  {
   "cell_type": "code",
   "execution_count": 19,
   "metadata": {
    "ExecuteTime": {
     "end_time": "2023-07-15T16:09:00.842141Z",
     "start_time": "2023-07-15T16:09:00.535727Z"
    }
   },
   "outputs": [],
   "source": [
    "wga = MAF(\"10_primates\", aligned_on=\"homo_sapiens\")\n",
    "alignments = wga.get(HES3_feat)"
   ]
  },
  {
   "cell_type": "markdown",
   "metadata": {},
   "source": [
    "`aligned_on` specifies the name of the species the files are indexed on, using the same name that's used to designate the species in the MAF file, e.g., the `1` in `1.maf` is the human chromosome 1, which is designated `homo_sapiens.1` in each alignment record. `alignments` is a list because, in some cases, the feature does not have a contiguous alignment: it might be split over more than one chromosome in another species' genome, or some intervening region may have failed to align.\n",
    "\n",
    "If the feature is contiguous, as it is in this case, we can unpack `alignments` like so:"
   ]
  },
  {
   "cell_type": "code",
   "execution_count": 20,
   "metadata": {
    "ExecuteTime": {
     "end_time": "2023-07-15T16:09:00.844066Z",
     "start_time": "2023-07-15T16:09:00.842589Z"
    }
   },
   "outputs": [],
   "source": [
    "alignment, = alignments"
   ]
  },
  {
   "cell_type": "markdown",
   "metadata": {},
   "source": [
    "`alignment` is a dictionary mapping species to `tuple`, where `tuple[0]` is a `Feature` instance describing the alignment's position in the associated species' genome and `tuple[1]` the aligned sequence:"
   ]
  },
  {
   "cell_type": "code",
   "execution_count": 21,
   "metadata": {
    "ExecuteTime": {
     "end_time": "2023-07-15T16:09:00.848507Z",
     "start_time": "2023-07-15T16:09:00.846644Z"
    }
   },
   "outputs": [
    {
     "name": "stdout",
     "output_type": "stream",
     "text": [
      "homo_sapiens=1:6244179-6245578:+                   ATGGACTGCA\n",
      "pan_paniscus=1:6265551-6267008:+                   ATGGACTGCA\n",
      "pan_troglodytes=1:5501313-5502746:+                ATGGACTGCA\n",
      "gorilla_gorilla=1:5955740-5957141:+                ATGGACTGCA\n",
      "pongo_abelii=1:222410362-222411774:-               ATGGACTGCA\n",
      "nomascus_leucogenys=24:6251749-6252870:+           ATGAACTGCA\n",
      "chlorocebus_sabaeus=20:125494692-125496061:-       ACGGACTGCA\n",
      "macaca_fascicularis=1:218253904-218255170:-        ACGGACTGCA\n",
      "macaca_mulatta=1:218281706-218283027:-             ACGGACTGCA\n",
      "microcebus_murinus=2:65610888-65612183:-           ATAAAGAGCA\n"
     ]
    }
   ],
   "source": [
    "for species, (feat, seq) in alignment.items():\n",
    "    name = f\"{species}={feat.locus(base=1, strand=True)}\"\n",
    "    print(\"{: <50}\".format(name), seq[:10])  # Just the first ten bases to save some room."
   ]
  },
  {
   "cell_type": "markdown",
   "metadata": {},
   "source": [
    "`Feature` instances have convenient helper methods, such as `locus()`, which enables us to construct a neat string in generic genome browser format. `base=1` indicates a 1-based, fully-closed coordinate system and `strand=True` indicates that the strand should be included at the end of the string.\n",
    "\n",
    "Another method implemented in the `Feature` class is `pad()`, which takes three arguments:\n",
    "- `pad5`, the number of bases to add onto the 5'-end of the feature;\n",
    "- `pad3`, the number of bases to add onto the 3'-end of the feature; and\n",
    "- `center`, an integer—5, 3, or 0—indicating whether the padding should centered on the 5' coordinate, the 3' coordinate, or neither, in which case `pad5` is applied to the 5' coordinate and `pad3` to the 3' coordinate.\n",
    "\n",
    "I use \"add\" to describe feature extension, but of course, the actual operation is strand- and coordinate-dependent, e.g.,"
   ]
  },
  {
   "cell_type": "code",
   "execution_count": 22,
   "metadata": {
    "ExecuteTime": {
     "end_time": "2023-07-15T16:09:00.854218Z",
     "start_time": "2023-07-15T16:09:00.852528Z"
    }
   },
   "outputs": [
    {
     "name": "stdout",
     "output_type": "stream",
     "text": [
      "center=0\n",
      "> pad5=50, pad3=25\n",
      "\tforward_feat=1:50-225\n",
      "\treverse_feat=1:75-250\n",
      "> pad5=50, pad3=75\n",
      "\tforward_feat=1:50-275\n",
      "\treverse_feat=1:25-250\n",
      "> pad5=100, pad3=25\n",
      "\tforward_feat=1:0-225\n",
      "\treverse_feat=1:75-300\n",
      "> pad5=100, pad3=75\n",
      "\tforward_feat=1:0-275\n",
      "\treverse_feat=1:25-300\n",
      "center=5\n",
      "> pad5=50, pad3=25\n",
      "\tforward_feat=1:50-125\n",
      "\treverse_feat=1:175-250\n",
      "> pad5=50, pad3=75\n",
      "\tforward_feat=1:50-175\n",
      "\treverse_feat=1:125-250\n",
      "> pad5=100, pad3=25\n",
      "\tforward_feat=1:0-125\n",
      "\treverse_feat=1:175-300\n",
      "> pad5=100, pad3=75\n",
      "\tforward_feat=1:0-175\n",
      "\treverse_feat=1:125-300\n",
      "center=3\n",
      "> pad5=50, pad3=25\n",
      "\tforward_feat=1:150-225\n",
      "\treverse_feat=1:75-150\n",
      "> pad5=50, pad3=75\n",
      "\tforward_feat=1:150-275\n",
      "\treverse_feat=1:25-150\n",
      "> pad5=100, pad3=25\n",
      "\tforward_feat=1:100-225\n",
      "\treverse_feat=1:75-200\n",
      "> pad5=100, pad3=75\n",
      "\tforward_feat=1:100-275\n",
      "\treverse_feat=1:25-200\n"
     ]
    }
   ],
   "source": [
    "forward_feat = Feature(\"1\", 100, 200, \"+\")\n",
    "reverse_feat = Feature(\"1\", 100, 200, \"-\")\n",
    "\n",
    "for center in (0, 5, 3):\n",
    "    print(f\"center={center}\")\n",
    "\n",
    "    for pad5 in (50, 100):\n",
    "        for pad3 in (25, 75):\n",
    "            print(f\"> pad5={pad5}, pad3={pad3}\")\n",
    "\n",
    "            padded_forward_feat = forward_feat.pad(center=center, pad5=pad5, pad3=pad3)\n",
    "            padded_reverse_feat = reverse_feat.pad(center=center, pad5=pad5, pad3=pad3)\n",
    "\n",
    "            print(f\"\\tforward_feat={padded_forward_feat.locus(base=0)}\")\n",
    "            print(f\"\\treverse_feat={padded_reverse_feat.locus(base=0)}\")"
   ]
  },
  {
   "cell_type": "markdown",
   "metadata": {},
   "source": [
    "`pad()` can be useful for the multitude of regulatory features that have contigent boundaries. Returning to the HES3 transcription factor, we could derive a core promoter region by selecting the 50 bases upstream from the canonical transcription start site:"
   ]
  },
  {
   "cell_type": "code",
   "execution_count": 23,
   "metadata": {
    "ExecuteTime": {
     "end_time": "2023-07-15T16:09:00.858344Z",
     "start_time": "2023-07-15T16:09:00.856730Z"
    }
   },
   "outputs": [],
   "source": [
    "HES3_prom = HES3_feat.pad(center=5, pad5=50, pad3=0)"
   ]
  },
  {
   "cell_type": "markdown",
   "metadata": {},
   "source": [
    "And because `pad()` just returns a new, padded feature, we can pass it to `MAF.get()` for resolution:"
   ]
  },
  {
   "cell_type": "code",
   "execution_count": 24,
   "metadata": {
    "ExecuteTime": {
     "end_time": "2023-07-15T16:09:01.160809Z",
     "start_time": "2023-07-15T16:09:00.858719Z"
    }
   },
   "outputs": [
    {
     "name": "stdout",
     "output_type": "stream",
     "text": [
      "homo_sapiens=1:6244129-6244178:+                   GACATGTAAACGAGGGT-CCCTATAAAGGCGGCGCTGCCTCGC-ACTGGTGC\n",
      "pan_paniscus=1:6265501-6265550:+                   GACATGTAAACGAGGGT-CCCTATAAAGGCGGCGCTGCCTCGC-ACTGGTGC\n",
      "pan_troglodytes=1:5501263-5501312:+                GACATGTAAACGAGGGT-CCCTATAAAGGCGGCGCTGCCTCGC-ACTGGTGC\n",
      "gorilla_gorilla=1:5955690-5955739:+                GACATGTAAACAAGGGT-CCCTATAAAGGCGGCGCTGCCTCGC-ACTGGTGC\n",
      "pongo_abelii=1:222411775-222411824:-               GACATGTAAACGAGGGT-CCCTATAAAGGCGGCGCTGCCTCGC-ACTGGTGC\n",
      "nomascus_leucogenys=24:6251699-6251748:+           GACATGTAAACGAGGGT-CCCTATAAAGGCGGCGCTGCCTCGC-ACTGGCAC\n",
      "chlorocebus_sabaeus=20:125496062-125496111:-       GACATGTAAACGAGGGT-CCCTATAAAGGCAGCACTGCCTCAC-ACTGGTGC\n",
      "macaca_fascicularis=1:218255171-218255220:-        GACATGTAAACGAGGGT-CCCTATAAAGGCAGCACTGCCTCAC-ACTGGTGC\n",
      "macaca_mulatta=1:218283028-218283077:-             GACATGTAAACGAGGGT-CCCTATAAAGGCAGCACTGCCTCAC-ACTGGTGC\n",
      "microcebus_murinus=2:65612184-65612235:-           GACATGTAAACGAGGGGCCCCAATAAAGGCGGCACTGACTTGCTGCTTGCGC\n"
     ]
    }
   ],
   "source": [
    "prom_alignments = wga.get(HES3_prom)\n",
    "\n",
    "if len(prom_alignments) == 1:\n",
    "    alignment, = prom_alignments\n",
    "    for species, (feat, seq) in alignment.items():\n",
    "        name = f\"{species}={feat.locus(base=1, strand=True)}\"\n",
    "        print(\"{: <50}\".format(name), seq)"
   ]
  },
  {
   "cell_type": "markdown",
   "metadata": {},
   "source": [
    "Here, we focused on a single gene; see the `human_mouse.ipynb` notebook for how `evopython` can be used to perform genome-scale analyses."
   ]
  }
 ],
 "metadata": {
  "kernelspec": {
   "display_name": "Python 3 (ipykernel)",
   "language": "python",
   "name": "python3"
  },
  "language_info": {
   "codemirror_mode": {
    "name": "ipython",
    "version": 3
   },
   "file_extension": ".py",
   "mimetype": "text/x-python",
   "name": "python",
   "nbconvert_exporter": "python",
   "pygments_lexer": "ipython3",
   "version": "3.10.8"
  }
 },
 "nbformat": 4,
 "nbformat_minor": 1
}
